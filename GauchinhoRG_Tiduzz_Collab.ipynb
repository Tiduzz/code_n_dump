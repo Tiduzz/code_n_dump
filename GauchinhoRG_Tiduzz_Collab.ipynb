{
  "nbformat": 4,
  "nbformat_minor": 0,
  "metadata": {
    "colab": {
      "name": "GauchinhoRG_Tiduzz_Collab.ipynb",
      "provenance": [],
      "collapsed_sections": [],
      "include_colab_link": true
    },
    "kernelspec": {
      "name": "python3",
      "display_name": "Python 3"
    },
    "language_info": {
      "name": "python"
    }
  },
  "cells": [
    {
      "cell_type": "markdown",
      "metadata": {
        "id": "view-in-github",
        "colab_type": "text"
      },
      "source": [
        "<a href=\"https://colab.research.google.com/github/Tiduzz/code_n_dump/blob/main/GauchinhoRG_Tiduzz_Collab.ipynb\" target=\"_parent\"><img src=\"https://colab.research.google.com/assets/colab-badge.svg\" alt=\"Open In Colab\"/></a>"
      ]
    },
    {
      "cell_type": "markdown",
      "metadata": {
        "id": "uFKtJ628nQwv"
      },
      "source": [
        "# Ohayo Gouzaimasu.\n",
        "\n",
        "Utilizaremos este notebook para as tarefas de python feito por vosso queridíssimo Cleo, pois eu (Tiduzz) estou com preguiça de entrar no Uri. E também é importante, que você, GauchinhoRG, aprenda a utilizar esta ferramenta."
      ]
    },
    {
      "cell_type": "code",
      "metadata": {
        "id": "q-BxKmRFnImX",
        "colab": {
          "base_uri": "https://localhost:8080/"
        },
        "outputId": "a61676cf-26f2-475e-a21e-04d2c9826e74"
      },
      "source": [
        "print(\"Hello world\")"
      ],
      "execution_count": null,
      "outputs": [
        {
          "output_type": "stream",
          "text": [
            "Hello world\n"
          ],
          "name": "stdout"
        }
      ]
    },
    {
      "cell_type": "markdown",
      "metadata": {
        "id": "tMxecJoWpB9Y"
      },
      "source": [
        "# Academic 1617"
      ]
    },
    {
      "cell_type": "markdown",
      "metadata": {
        "id": "ufF_kfnWpScf"
      },
      "source": [
        "Faça um programa que leia 20 números e mostre novamente os números do 2º ao penúltimo."
      ]
    },
    {
      "cell_type": "code",
      "metadata": {
        "id": "__8FTR8Up4eu",
        "colab": {
          "base_uri": "https://localhost:8080/"
        },
        "outputId": "c4ac8f69-e3b2-4eba-c788-9913fe546a7e"
      },
      "source": [
        "list = []\n",
        "count = 0\n",
        "for num in range(20):\n",
        "  n = int(input())\n",
        "  if count == 0:\n",
        "    count += 1\n",
        "  else:\n",
        "    list.append(n)\n",
        "list.pop()\n",
        "print(' '.join(map(str,list)))"
      ],
      "execution_count": null,
      "outputs": [
        {
          "output_type": "stream",
          "text": [
            "1\n",
            "2\n",
            "3\n",
            "4\n",
            "5\n",
            "6\n",
            "7\n",
            "8\n",
            "9\n",
            "10\n",
            "11\n",
            "12\n",
            "13\n",
            "14\n",
            "15\n",
            "16\n",
            "17\n",
            "18\n",
            "19\n",
            "20\n",
            "2 3 4 5 6 7 8 9 10 11 12 13 14 15 16 17 18 19\n"
          ],
          "name": "stdout"
        }
      ]
    },
    {
      "cell_type": "markdown",
      "metadata": {
        "id": "3LJtzWGZwUoV"
      },
      "source": [
        "# Academic 1638"
      ]
    },
    {
      "cell_type": "markdown",
      "metadata": {
        "id": "Croze0Cywawr"
      },
      "source": [
        "Faça um programa que leia N valores (até o usuário digitar um número negativo) e depois mostre os números em ordem contrária."
      ]
    },
    {
      "cell_type": "code",
      "metadata": {
        "colab": {
          "base_uri": "https://localhost:8080/"
        },
        "id": "cbivCfcWwuXZ",
        "outputId": "197857e7-4966-43b7-f782-6673e2c74443"
      },
      "source": [
        "list = []\n",
        "x = int(input())\n",
        "while x >= 0:\n",
        "  list.append(x)\n",
        "  x = int(input())\n",
        "list.reverse()\n",
        "print(' '.join(map(str,list)))"
      ],
      "execution_count": null,
      "outputs": [
        {
          "output_type": "stream",
          "text": [
            "0\n",
            "1\n",
            "2\n",
            "3\n",
            "-1\n",
            "3 2 1 0\n"
          ],
          "name": "stdout"
        }
      ]
    },
    {
      "cell_type": "markdown",
      "metadata": {
        "id": "bE7_8ciByZYL"
      },
      "source": [
        "# Academic 1640"
      ]
    },
    {
      "cell_type": "code",
      "metadata": {
        "colab": {
          "base_uri": "https://localhost:8080/"
        },
        "id": "6_UJbTt20PyQ",
        "outputId": "cff5739e-a2ec-425d-9bd7-ffb0faac2d26"
      },
      "source": [
        "import math\n",
        "\n",
        "list = []\n",
        "x = float(input())\n",
        "while x >= 0:\n",
        "  list.append(x)\n",
        "  x = float(input())\n",
        "\n",
        "MA = 0\n",
        "count = 0\n",
        "for i in list:\n",
        "  MA += i\n",
        "  count +=1\n",
        "Media = float(MA/count)\n",
        "\n",
        "somas = 0\n",
        "for i in list:\n",
        "  somas += (i-Media)**2\n",
        "\n",
        "DP = somas/count\n",
        "true_DP = math.sqrt(DP)\n",
        "print(\"Media: {:.2f}\".format(Media)) \n",
        "print(\"Desvio Padrao: {:.2f}\".format(true_DP))"
      ],
      "execution_count": null,
      "outputs": [
        {
          "output_type": "stream",
          "text": [
            "1.55\n",
            "1.70\n",
            "1.80\n",
            "-1\n",
            "Media: 1.68\n",
            "Desvio Padrao: 0.10\n"
          ],
          "name": "stdout"
        }
      ]
    }
  ]
}